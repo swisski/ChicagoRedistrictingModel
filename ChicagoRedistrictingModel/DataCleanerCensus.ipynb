{
 "cells": [
  {
   "cell_type": "code",
   "execution_count": 1,
   "metadata": {},
   "outputs": [],
   "source": [
    "import pandas as pd\n",
    "import numpy as np\n",
    "import geopandas as gpd"
   ]
  },
  {
   "cell_type": "code",
   "execution_count": null,
   "metadata": {},
   "outputs": [],
   "source": [
    "df1 = pd.read_csv(\"data/DECENNIALPL2020.H1-Data.csv\")\n",
    "df2 = pd.read_csv(\"data/DECENNIALPL2020.P2-Data.csv\")\n",
    "df3 = pd.read_csv(\"data/DECENNIALPL2020.P3-Data.csv\")\n",
    "df4 = pd.read_csv(\"data/DECENNIALPL2020.P4-Data.csv\") \n",
    "df5 = pd.read_csv(\"data/DECENNIALPL2020.P5-Data.csv\")"
   ]
  },
  {
   "cell_type": "code",
   "execution_count": 3,
   "metadata": {},
   "outputs": [],
   "source": [
    "def df_cleaner(df):\n",
    "    df_clean = df.copy()\n",
    "    \n",
    "    unnamed_col = df_clean.columns[-1]\n",
    "    df_clean.drop(unnamed_col, axis=1, inplace=True)\n",
    "    \n",
    "    new_columns = df_clean.iloc[0].str.strip().str.replace('!', '').values\n",
    "    df_clean.columns = new_columns\n",
    "    \n",
    "    df_clean = df_clean.drop([0, 1])\n",
    "    df_clean = df_clean.reset_index(drop=True)\n",
    "    \n",
    "    return df_clean"
   ]
  },
  {
   "cell_type": "code",
   "execution_count": 4,
   "metadata": {},
   "outputs": [],
   "source": [
    "df1 = df_cleaner(df1) # Housing\n",
    "df2 = df_cleaner(df2) # Hispanic/Latino\n",
    "df3 = df_cleaner(df3) # Race\n",
    "df5 = df_cleaner(df5) # Institutionalized"
   ]
  },
  {
   "cell_type": "code",
   "execution_count": 5,
   "metadata": {},
   "outputs": [],
   "source": [
    "merged_data = df1.merge(df2, on=\"Geography\", how=\"outer\", suffixes=('_1', '_2')) \\\n",
    "                      .merge(df3, on=\"Geography\", how=\"outer\", suffixes=('', '_3')) \\\n",
    "                      .merge(df5, on=\"Geography\", how=\"outer\", suffixes=('', '_5'))"
   ]
  },
  {
   "cell_type": "code",
   "execution_count": 6,
   "metadata": {},
   "outputs": [],
   "source": [
    "important_columns = [\n",
    "    'Geography',\n",
    "    'Geographic Area Name_1',\n",
    "    'Total:_1',\n",
    "    'Total:Occupied',\n",
    "    'Total:Vacant',\n",
    "    'Total:Hispanic or Latino',\n",
    "    'Total:Population of one race:White alone',\n",
    "    'Total:Population of one race:Black or African American alone',\n",
    "    'Total:Population of one race:Asian alone',\n",
    "    'Total:Population of one race:American Indian and Alaska Native alone',\n",
    "    'Total:Population of one race:Native Hawaiian and Other Pacific Islander alone',\n",
    "    'Total:Population of one race:Some Other Race alone',\n",
    "    'Total:Not Hispanic or Latino:Population of two or more races:Population of two races:',\n",
    "    'Total:Institutionalized population:',\n",
    "    'Total:Institutionalized population:Correctional facilities for adults',\n",
    "    'Total:Institutionalized population:Juvenile facilities',\n",
    "    'Total:Institutionalized population:Nursing facilities/Skilled-nursing facilities',\n",
    "    'Total:Noninstitutionalized population:College/University student housing',\n",
    "    'Total:Noninstitutionalized population:Military quarters',\n",
    "    'Total:Noninstitutionalized population:Other noninstitutional facilities'\n",
    "]"
   ]
  },
  {
   "cell_type": "code",
   "execution_count": null,
   "metadata": {},
   "outputs": [],
   "source": [
    "df = merged_data[important_columns]\n",
    "df = df.rename(columns={\n",
    "    # Geographic identifiers (tract in this case i think)\n",
    "    \"Geography\": \"geo_id\",\n",
    "    \"Geographic Area Name_1\": \"area_name\",\n",
    "    \n",
    "    # Housing data\n",
    "    \"Total:_1\": \"total_houses\",\n",
    "    \"Total:Occupied\": \"occupied_houses\",\n",
    "    \"Total:Vacant\": \"vacant_houses\",\n",
    "    \n",
    "    # Race/Ethnicity data\n",
    "    \"Total:Hispanic or Latino\": \"hispanic_latino\",\n",
    "    \"Total:Population of one race:White alone\": \"white\",\n",
    "    \"Total:Population of one race:Black or African American alone\": \"black\",\n",
    "    \"Total:Population of one race:Asian alone\": \"asian\",\n",
    "    \"Total:Population of one race:American Indian and Alaska Native alone\": \"american_indian_alaska_native\",\n",
    "    \"Total:Population of one race:Native Hawaiian and Other Pacific Islander alone\": \"pacific_islander\",\n",
    "    \"Total:Population of one race:Some Other Race alone\": \"other_race\",\n",
    "    \"Total:Not Hispanic or Latino:Population of two or more races:Population of two races:\": \"multiracial\",\n",
    "    \n",
    "    # Institutional populations\n",
    "    \"Total:Institutionalized population:\": \"total_institutionalized\",\n",
    "    \"Total:Institutionalized population:Correctional facilities for adults\": \"prison_pop\",\n",
    "    \"Total:Institutionalized population:Juvenile facilities\": \"juvenile_detention_pop\",\n",
    "    \"Total:Institutionalized population:Nursing facilities/Skilled-nursing facilities\": \"nursing_home_pop\",\n",
    "    \n",
    "    # Special populations (prison, military, stuff like that)\n",
    "    \"Total:Noninstitutionalized population:College/University student housing\": \"college_dorm_pop\",\n",
    "    \"Total:Noninstitutionalized population:Military quarters\": \"military_housing_pop\",\n",
    "    \"Total:Noninstitutionalized population:Other noninstitutional facilities\": \"other_group_quarters_pop\"\n",
    "})"
   ]
  },
  {
   "cell_type": "code",
   "execution_count": 8,
   "metadata": {},
   "outputs": [],
   "source": [
    "df.to_csv(\"data/Decennial_Census.csv\")"
   ]
  },
  {
   "cell_type": "code",
   "execution_count": null,
   "metadata": {},
   "outputs": [],
   "source": []
  }
 ],
 "metadata": {
  "kernelspec": {
   "display_name": "myenv",
   "language": "python",
   "name": "python3"
  },
  "language_info": {
   "codemirror_mode": {
    "name": "ipython",
    "version": 3
   },
   "file_extension": ".py",
   "mimetype": "text/x-python",
   "name": "python",
   "nbconvert_exporter": "python",
   "pygments_lexer": "ipython3",
   "version": "3.12.3"
  }
 },
 "nbformat": 4,
 "nbformat_minor": 2
}
